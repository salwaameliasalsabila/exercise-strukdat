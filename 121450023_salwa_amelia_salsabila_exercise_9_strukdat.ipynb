{
  "nbformat": 4,
  "nbformat_minor": 0,
  "metadata": {
    "colab": {
      "provenance": [],
      "authorship_tag": "ABX9TyO6lHXXZCBSY2fPrFx3EFIR",
      "include_colab_link": true
    },
    "kernelspec": {
      "name": "python3",
      "display_name": "Python 3"
    },
    "language_info": {
      "name": "python"
    }
  },
  "cells": [
    {
      "cell_type": "markdown",
      "metadata": {
        "id": "view-in-github",
        "colab_type": "text"
      },
      "source": [
        "<a href=\"https://colab.research.google.com/github/salwaameliasalsabila/exercise-strukdat/blob/main/121450023_salwa_amelia_salsabila_exercise_9_strukdat.ipynb\" target=\"_parent\"><img src=\"https://colab.research.google.com/assets/colab-badge.svg\" alt=\"Open In Colab\"/></a>"
      ]
    },
    {
      "cell_type": "markdown",
      "source": [
        "NAMA : SALWA AMELIA SALSABILA \\\\\n",
        "NIM : 121450023"
      ],
      "metadata": {
        "id": "cDJGZAIvzYwu"
      }
    },
    {
      "cell_type": "markdown",
      "source": [
        "# Exercise 9 Struktur Data\n",
        "\n",
        "## Introduction Section\n",
        "1. Jelaskan definisi object dalam Paradigma Object-Oriented!\n",
        "2. Jelaskan tiga tujuan dalam Paradigma Object-Oriented!\n",
        "3. Jelaskan tiga prinsip dalam Paradigma Object-Oriented!\n",
        "4. Sebutkan contoh design pattern dalam Paradigma Object-Oriented!\n",
        "\n",
        "## Jawab :\n",
        "1. paradigma atau teknik pemrograman di mana semua hal dalam program dimodelkan seperti objek dalam dunia nyata. \n",
        "2. - Tujuan utama OOP adalah untuk mengatasi kelemahan pendekatan pemrograman konvensional.\n",
        "   - membantu para developer dalam mengembangkan model yang sudah ada di kehidupan sehari-hari.\n",
        "   - untuk mempermudah pengembangan program dengan cara mengikuti model yang telah ada di kehidupan sehari-hari.\n",
        "3. - Encapsulation atau pengkapsulan adalah konsep tentang pengikatan data atau metode berbeda yang disatukan atau “dikapsulkan” menjadi satu unit data.\n",
        "   - abstraction berarti menyembunyikan detail latar belakang dan hanya mewakili informasi yang diperlukan untuk dunia luar.\n",
        "Ini adalah proses penyederhanaan konsep dunia nyata menjadi komponen yang mutlak diperlukan. \n",
        "   - Inheritance dalam konsep OOP adalah kemampuan untuk membentuk class baru yang memiliki fungsi turunan atau mirip dengan fungsi yang ada sebelumnya. \n",
        "4. \n",
        "# Macam-macam Design Pattern\n",
        "Terdapat 3 pola bagian utama sesuai dengan kegunaannya. Berikut merupakan pola tersebut:\n",
        "\n",
        "## Creational Pattern (Pola Pembuatan)\n",
        "Pola ini merupakan suatu solusi untuk menyelesaikan permasalahan yang ditemui dalam suatu kejadian pembuatan suatu instance atau object. Pola ini dibagi menjadi 5 macam, yaitu:\n",
        "- Factory Method\n",
        "- Prototype\n",
        "- Abstract Factory\n",
        "- Builder\n",
        "- Singleton\n",
        "\n",
        "## Behavioral Pattern (Pola Perilaku)\n",
        "Pola ini merupakan suatu solusi untuk menyelasaikan permasalahan yang ditemui dalam komunikasi antar object-object. Pola ini dibagi menjadi 11 macam, yaitu:\n",
        "- Template Method\n",
        "- Strategy\n",
        "- Command\n",
        "- Memento\n",
        "- Mediator\n",
        "- State\n",
        "- Observer\n",
        "- Iterator\n",
        "- Chain of Responsibility\n",
        "- Interpreter\n",
        "- Visitor\n",
        "\n",
        "## Structural Pattern (Pola Struktural)\n",
        "Pola ini merupakan suatu solusi untuk menyelesaikan permasalahan yang ditemui dalam pengaturan komposisi class dan object. Pola ini dibagi menjadi 7 macam pola, yaitu:\n",
        "- Adapter\n",
        "- Composite\n",
        "- Decorator\n",
        "- Proxy\n",
        "- Façade\n",
        "- Flyweight\n",
        "- Bridge\n"
      ],
      "metadata": {
        "id": "w4yZ93uWJzFA"
      }
    },
    {
      "cell_type": "markdown",
      "source": [
        "## Class and Object\n",
        "1. Jelaskan definisi Class!\n",
        "2. Jelaskan perbedaan Attribute dengan Method!\n",
        "3. Jelaskan apa itu instansiasi Object!\n",
        "4. Jelaskan apa itu identifier!\n",
        "\n",
        "## Jawab:\n",
        "1. Class merupakan suatu blueprint atau cetakan untuk menciptakan suatu instant dari  object. class juga merupakan grup suatu object dengan kemiripan attributes/properties, behaviour dan relasi ke object lain.\n",
        "2. - Attribute dari sebuah kelas adalah variabel global yang dimiliki sebuah kelas, Attribute dapat memiliki hak akses private, public maupun protected. Sebuah Attribute yang dinyatakan sebagai private hanya dapat diakses secara langsung oleh kelas yang membungkusnya, Sedangkan kelas lainnya tidak dapat mengakses Attribute ini secara langsung.\n",
        "   - Method adalah sarana bagi programmer untuk memecah program kompleks menjadi bagian yang kecil-kecil,sehingga nantinya dapat digunakan berulang-ulang. \n",
        "3. Instansiasi – Instansiasi adalah pembuatan instance/objek dari suatu kelas. Metode – Metode adalah fungsi yang didefinisikan di dalam suatu kelas. Objek – Objek adalah instansiasi atau perwujudan dari sebuah kelas.\n",
        "4. Identifier atau python identifier adalah nama yang digunakan untuk mengidentifikasi atau memberikan identitas untuk variabel, function, class, module, ataupun object lainnya. Identifier bisa diawali dengan huruf A-Z atau a-z atau underscore (_) diikuti huruf, underscore, dan digit (0-9)\n",
        "\n"
      ],
      "metadata": {
        "id": "11_Q58iIJ56K"
      }
    },
    {
      "cell_type": "markdown",
      "source": [
        "## Implementing Class\n",
        "Implementasikan kelas diagram \"Kendaraan\" berikut ke dalam Python!\n",
        "\n",
        "   Class Kendaraan :\n",
        "   \n",
        "    - string nomorPlat\n",
        "    - string merk\n",
        "    - string jenis\n",
        "    - string warna\n",
        "    - int tanggalBeli\n",
        "    - int bulanBeli\n",
        "    - int tahunBeli\n",
        "    - double berat\n",
        "    - double harga\n",
        "    - showTanggalPembelian()\n",
        "\n"
      ],
      "metadata": {
        "id": "Ao9Lfotl2x5U"
      }
    },
    {
      "cell_type": "markdown",
      "source": [
        "## Main OOP Concept\n",
        "1. Jelaskan konsep encapsulation dalam Paradigma Object-Oriented!\n",
        "2. Jelaskan konsep inheritance dalam Paradigma Object-Oriented!\n",
        "3. Jelaskan perbedaan public method dan private method dalam encapsulation!\n",
        "4. Jelaskan perbedaan superclass dan subclass dalam inheritance!\n",
        "\n",
        "## Jawab\n",
        "1. Encapsulation atau pengkapsulan adalah konsep tentang pengikatan data atau metode berbeda yang disatukan atau “dikapsulkan” menjadi satu unit data.\n",
        "Yang mana berbagai objek yang berada dalam class tersebut dapat berdiri sendiri tanpa terpengaruh oleh yang lainnya.\n",
        "2. Inheritance dalam konsep OOP adalah kemampuan untuk membentuk class baru yang memiliki fungsi turunan atau mirip dengan fungsi yang ada sebelumnya. \n",
        "Konsep ini menggunakan sistem hierarki atau bertingkat. Yang artinya, semakin jauh turunan atau subclass-nya, maka semakin sedikit kemiripan fungsinya.\n",
        "3. - Ketika sebuah property atau method dinyatakan sebagai public, maka seluruh kode program di luar class bisa mengaksesnya, termasuk class turunan. \n",
        "  - Jika sebuah property atau method di-set sebagai private, maka satu-satunya yang bisa mengakses adalah class itu sendiri. Class lain tidak bisa mengaksesnya, termasuk class turunan.\n",
        "4. - Superclass digunakan untuk menunjukkan hirarki class yang berarti class dasar dari subclass/class anak.\n",
        "   - Subclass adalah class anak atau turunan secara hirarki dari superclass.\n",
        "   \n",
        "\n",
        "\n"
      ],
      "metadata": {
        "id": "aTORGB8x29Fo"
      }
    },
    {
      "cell_type": "markdown",
      "source": [
        "## Programming Exercise\n",
        "- Buatlah class diagram dari code python berikut ini:\n",
        "\n",
        "```python\n",
        "class Koordinat:\n",
        "\tdef __init__(self,x,y):\n",
        "\t\tself.z = 0\n",
        "\t\tself.x = x\n",
        "\t\tself.y = y\n",
        "\tdef set_x(self,x):\n",
        "\t\tself.x = x\n",
        "\tdef increment_x(self):\n",
        "\t\tself.x+=1\n",
        "\tdef __str__(self):\n",
        "\t\treturn f\"x : {self.x} , y:{self.y} , z:{self.z}\"\n",
        "```\n",
        "\n"
      ],
      "metadata": {
        "id": "0nRxBn663GF5"
      }
    },
    {
      "cell_type": "code",
      "source": [
        "from numpy import sqrt\n",
        "class norm:\n",
        "  def __init__(self, x, y, z):\n",
        "    self.x = x\n",
        "    self.y = y\n",
        "    self.z = z\n",
        "\n",
        "  def perhitungan(self):\n",
        "    self.hasil = sqrt((self.x)**2 + (self.y)**2 + (self.z)**2)\n",
        "\n",
        "  def display(self):\n",
        "    print(\"x : \", str(self.x))\n",
        "    print(\"y : \", str(self.y))\n",
        "    print(\"z : \", str(self.z))\n",
        "    print(\"Nilai norm dari vektor tersebut adalah\", str(self.hasil))\n",
        "    \n",
        "obj = norm(3, 6, 9)\n",
        "obj.perhitungan()\n",
        "obj.display()"
      ],
      "metadata": {
        "colab": {
          "base_uri": "https://localhost:8080/"
        },
        "id": "DvVKluKgNt19",
        "outputId": "72e608cc-a9bc-4668-c0b8-e914279a01ea"
      },
      "execution_count": null,
      "outputs": [
        {
          "output_type": "stream",
          "name": "stdout",
          "text": [
            "x :  3\n",
            "y :  6\n",
            "z :  9\n",
            "Nilai norm dari vektor tersebut adalah 11.224972160321824\n"
          ]
        }
      ]
    },
    {
      "cell_type": "markdown",
      "source": [
        "- Implementasikan class diagram berikut menjadi program python!\n",
        "\n",
        "```mermaid\n",
        "classDiagram\n",
        "class Koordinat{\n",
        "\tint x\n",
        "\tint y\n",
        "\tint z\n",
        "\tsetx()\n",
        "\tsety()\n",
        "\tsetz()\n",
        "}\n",
        "class Vector{\n",
        "\tKoordinat koordinat\n",
        "\tsetKoordinat()\n",
        "\tgetKoordinat()\n",
        "\tnorm()\n",
        "}\n",
        "```\n",
        "\n"
      ],
      "metadata": {
        "id": "bxb7DtMj3WNk"
      }
    },
    {
      "cell_type": "code",
      "source": [
        "from numpy import sqrt\n",
        "\n",
        "class Koordinat:\n",
        "  def __init__(self,x,y,z):\n",
        "    self.x = x\n",
        "    self.y = y\n",
        "    self.z = z\n",
        "  def setx(self):\n",
        "    return self.x\n",
        "  def sety(self):\n",
        "    return self.y\n",
        "  def setz(self):\n",
        "    return self.z\n",
        "\n",
        "class Vector(Koordinat):\n",
        "  def setKoordinat(self):\n",
        "    self.koordinat = self.x, self.y, self.z\n",
        "  def getKoordinat(self):\n",
        "    print(f'Koordinat {self.x, self.y, self.z}')\n",
        "  def norm(self):\n",
        "    self.norm = sqrt((self.x)**2 + (self.y)**2 + (self.z)**2)\n",
        "    print(f'Nilai norm vector nya adalah {self.norm}')\n",
        "\n",
        "# Main programming\n",
        "\n",
        "b = Vector(3, 6, 9)\n",
        "b.setKoordinat()\n",
        "b.getKoordinat()\n",
        "b.norm()"
      ],
      "metadata": {
        "colab": {
          "base_uri": "https://localhost:8080/"
        },
        "id": "to--ovUyOMI7",
        "outputId": "765d4440-933d-4ac5-99fb-48c6022c4137"
      },
      "execution_count": null,
      "outputs": [
        {
          "output_type": "stream",
          "name": "stdout",
          "text": [
            "Koordinat (3, 6, 9)\n",
            "Nilai norm vector nya adalah 11.224972160321824\n"
          ]
        }
      ]
    },
    {
      "cell_type": "markdown",
      "source": [
        "- fungsi norm() adalah fungsi untuk menghitung norm dari sebuah vector yaitu\n",
        "norm = $\\sqrt{x^2 + y^2 + z^2}$ . Buatlah fungsi untuk menghitung norm dari vector berdasarkan class yang telah anda buat! \n",
        "\n"
      ],
      "metadata": {
        "id": "xV8AQqFm3d0j"
      }
    },
    {
      "cell_type": "code",
      "source": [
        "class Koordinat :\n",
        "  def __init__ (self, x, y , z):\n",
        "    self.x = x\n",
        "    self.y = y\n",
        "    self.z = z\n",
        "  \n",
        "  def setx(self):\n",
        "    return self.x\n",
        "\n",
        "  def sety(self):\n",
        "    return self.y\n",
        "\n",
        "  def setz(self):\n",
        "    return self.z\n",
        "\n",
        "class vector :\n",
        "  def getKoordinat(self, setx,sety,setz):\n",
        "    self.setx = setx\n",
        "    self.sety = sety\n",
        "    self.setz = setz\n",
        "\n",
        "  def setKoordinat(self,k):\n",
        "    koordinat = (k.setx(), k.sety(), k.setz())\n",
        "    return koordinat\n",
        "\n",
        "  def norm(self, a, b):\n",
        "    sum = 0\n",
        "    self.a = self.setKoordinat(a)\n",
        "    self.b = self.setKoordinat(b)\n",
        "    for n in range (3):\n",
        "      sum = sum + (self.a[n]- self.b[n])**2\n",
        "    return sum **0.5\n",
        "    "
      ],
      "metadata": {
        "id": "aznNLisZNdMV"
      },
      "execution_count": null,
      "outputs": []
    },
    {
      "cell_type": "code",
      "source": [
        "a = Koordinat(2,3,2)\n",
        "b = Koordinat(0,0,0)\n",
        "v = vector()\n",
        "v.norm(a,b)"
      ],
      "metadata": {
        "colab": {
          "base_uri": "https://localhost:8080/"
        },
        "id": "0Ga-SMo1NfNI",
        "outputId": "029eb112-f41b-4bd2-f4a5-2c1490e37d57"
      },
      "execution_count": null,
      "outputs": [
        {
          "output_type": "execute_result",
          "data": {
            "text/plain": [
              "4.123105625617661"
            ]
          },
          "metadata": {},
          "execution_count": 15
        }
      ]
    },
    {
      "cell_type": "markdown",
      "source": [
        "- Euclidian Distance adalah jarak antara 2 vector dan didefinisikan sebagai \n",
        "$$d = \\sqrt{ (x_1 - x_2)^2 + (y_1 - y_2)^2 + (x_1 - x_2)^2 } $$\n",
        "buatlah program untuk menghitung euclidian distance antara 2 vector berdasarkan class yang telah anda buat!\n",
        "\n"
      ],
      "metadata": {
        "id": "11EllFWs3jHH"
      }
    },
    {
      "cell_type": "code",
      "source": [
        "class Euclidean(Vector):\n",
        "  def __init__(self, x, y, z, X2, Y2, Z2):\n",
        "    self.x = x\n",
        "    self.y = y\n",
        "    self.z = z\n",
        "    self.x2 = X2\n",
        "    self.y2 = Y2\n",
        "    self.z2 = Z2\n",
        "    \n",
        "  def euclidean_distance(self):\n",
        "    d = sqrt((self.x - self.x2)**2+(self.y - self.y2)**2+(self.z - self.z2)**2)\n",
        "    return d\n",
        "\n",
        "jarak_vektor = Euclidean(3,6,9,2,4,6)\n",
        "jarak_vektor.euclidean_distance()"
      ],
      "metadata": {
        "colab": {
          "base_uri": "https://localhost:8080/"
        },
        "id": "UQqXIG2J5Ymo",
        "outputId": "7dadf4ed-103e-4b3c-83cb-abfbd77f4e2f"
      },
      "execution_count": null,
      "outputs": [
        {
          "output_type": "execute_result",
          "data": {
            "text/plain": [
              "3.7416573867739413"
            ]
          },
          "metadata": {},
          "execution_count": 19
        }
      ]
    },
    {
      "cell_type": "markdown",
      "source": [
        "- Perhatikan tabel berikut\n",
        "\n",
        "| Vector | x   | y   | z   | kelas |\n",
        "| ------ | --- | --- | --- | ----- |\n",
        "| A      | 0   | 1   | 1   | 0     |\n",
        "| B      | 2   | 2   | 2   | 1     |\n",
        "| C      | 1.5 | 1.2 | 1.5 | 1     |\n",
        "| D      | 10  | 9   | 8   | 0     |\n",
        "| E      | 5   | 5   | 5   | 0     |\n",
        "| F      | 8   | 8   | 8   | 0     |\n",
        "| G      | 6   | 6   | 1   | 0     |\n",
        "| H      | 3   | 3   | 3   | ?     |\n",
        "\n",
        "Salah satu metode dalam data science untuk melakukan klasifikasi adalah dengan menggunakan k-nearest neighbor, dimana cara menentukan label kelas adalah dengan cara melihat tetangga dengan euclidian distance terdekat. Tentukan kelas dari vector H dengan cara:\n",
        "- Tentukan 3 tetangga paling dekat dari H \n",
        "- dari 3 tetangga tersebut, pilih kelas yang paling banyak muncul\n",
        "- Jadikan kelas yang paling banyak muncul tersebut sebagai kelas dari vector H\n",
        "\n",
        "Implementasikan algoritma tersebut menggunakan program python dengan paradigma object-oriented programming yang telah anda pelajari!"
      ],
      "metadata": {
        "id": "VLhlImlw3oOm"
      }
    },
    {
      "cell_type": "code",
      "source": [
        "class Koordinat :\n",
        "  def __init__ (self, x,y,z,kelas):\n",
        "    self.x = x\n",
        "    self.y = y\n",
        "    self.z = z\n",
        "    self.kelas = kelas\n",
        "\n",
        "  def setx(self):\n",
        "    return self.x\n",
        "\n",
        "  def sety(self):\n",
        "    return self.y\n",
        "\n",
        "  def setz(self):\n",
        "    return self.z\n",
        "  \n",
        "  def kelas(self):\n",
        "    return self.kelas\n",
        "\n",
        "class vector :\n",
        "  def getKoordinat(self, setx, sety, setz):\n",
        "    self.setx = setx\n",
        "    self.sety = sety\n",
        "    self.setz = setz\n",
        "  \n",
        "  def setKoordinat (self,k):\n",
        "    koordinat = (k.setx(), k.sety(), k.setz())\n",
        "    return koordinat\n",
        "\n",
        "  def norm (self, a, b):\n",
        "    sum = 0\n",
        "    self.a = self.setKoordinat(a)\n",
        "    self.b = self.setKoordinat(b)\n",
        "    for n in range (3):\n",
        "      sum = sum + (self.a[n]-self.b[n])**2\n",
        "    return sum**0.5\n"
      ],
      "metadata": {
        "id": "0VFmZt5_KHmh"
      },
      "execution_count": null,
      "outputs": []
    },
    {
      "cell_type": "code",
      "source": [
        "a = Koordinat(0,1,1,0)\n",
        "b = Koordinat(2,2,2,1)\n",
        "c = Koordinat(1.5,1.2,1.5,1)\n",
        "d = Koordinat(10,9,8,0)\n",
        "e = Koordinat(5,5,5,0)\n",
        "f = Koordinat(8,8,8,0)\n",
        "g = Koordinat(6,6,1,0)\n",
        "h = Koordinat(3,3,3,None)\n",
        "v = vector()\n",
        "titik = [a,b,c,d,e,f,g,h]\n",
        "\n",
        "output = []\n",
        "for n in range (len(titik)):\n",
        "  panjang = v.norm(titik[n], titik[7])\n",
        "  output.append(panjang)\n",
        "\n",
        "print(output)\n",
        "output.sort()\n",
        "print(\"Norm paling dekat dengan H adalah : \", output[1])\n",
        "print(\"Norm kedua paling dekat dengan H adalah : \", output[2])\n",
        "print(\"Norm ketiga paling dekat dengan H adalah : \", output[3])\n",
        "print(\"Norm\", output[1], \"termasuk dalam kelas 1\")\n",
        "print(\"Norm\", output[2], \"termasuk dalam kelas 1\")\n",
        "print(\"Norm\", output[3], \"termasuk dalam kelas 0\")\n",
        "print(\"Domain kelas tetangga dari H yaitu kelas 1, sehingga H termasuk dalam kelas 1\")"
      ],
      "metadata": {
        "colab": {
          "base_uri": "https://localhost:8080/"
        },
        "id": "YvNEJvXXKNHC",
        "outputId": "81d05d98-eb99-4774-f5f9-a6099a1ea15a"
      },
      "execution_count": null,
      "outputs": [
        {
          "output_type": "stream",
          "name": "stdout",
          "text": [
            "[4.123105625617661, 1.7320508075688772, 2.7820855486487113, 10.488088481701515, 3.4641016151377544, 8.660254037844387, 4.69041575982343, 0.0]\n",
            "Norm paling dekat dengan H adalah :  1.7320508075688772\n",
            "Norm kedua paling dekat dengan H adalah :  2.7820855486487113\n",
            "Norm ketiga paling dekat dengan H adalah :  3.4641016151377544\n",
            "Norm 1.7320508075688772 termasuk dalam kelas 1\n",
            "Norm 2.7820855486487113 termasuk dalam kelas 1\n",
            "Norm 3.4641016151377544 termasuk dalam kelas 0\n",
            "Domain kelas tetangga dari H yaitu kelas 1, sehingga H termasuk dalam kelas 1\n"
          ]
        }
      ]
    }
  ]
}